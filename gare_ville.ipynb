{
 "cells": [
  {
   "cell_type": "code",
   "execution_count": 1,
   "metadata": {},
   "outputs": [],
   "source": [
    "import pandas as pd\n",
    "\n",
    "\n",
    "df_gare_ville = pd.read_json(\"./liste_gares.json\")\n",
    "\n",
    "gare = []\n",
    "gare_dis = []\n",
    "ville = []\n",
    "dep = []\n",
    "dict_gare_ville = {}\n",
    "\n",
    "for data in df_gare_ville[\"fields\"]:\n",
    "\n",
    "        gare.append(data['libelle'])\n",
    "        ville.append(data['commune'])\n",
    "        dep.append(data['departemen'])\n",
    "        \n",
    "\n",
    "\n",
    "for i in range(len(ville)):\n",
    "        dict_gare_ville[gare[i]] = [ville[i],dep[i]]\n",
    "\n",
    "      \n",
    "for i in dict_gare_ville:\n",
    "        gare_dis.append(i)\n",
    "\n",
    "len(gare_dis)\n",
    "#set permet d'enlever les doublons d'une liste\n",
    "list_dep = set(dep)"
   ]
  },
  {
   "cell_type": "code",
   "execution_count": 5,
   "metadata": {},
   "outputs": [],
   "source": [
    "import sqlalchemy as db\n",
    "\n",
    "engine = db.create_engine('sqlite:///villes_gares.sqlite3')\n",
    "connection = engine.connect()\n",
    "metadata = db.MetaData()\n",
    "\n",
    "\n",
    "Ville_Gare = db.Table('Ville_Gare',metadata,\n",
    "        \n",
    "        db.Column('id',db.Integer,primary_key = True),\n",
    "        db.Column('gare',db.String,nullable = False),\n",
    "        db.Column('ville',db.String,nullable = False),\n",
    "        db.Column('département',db.String,nullable = False)\n",
    "        )\n",
    "\n",
    "metadata.create_all(engine)"
   ]
  },
  {
   "cell_type": "code",
   "execution_count": 6,
   "metadata": {},
   "outputs": [],
   "source": [
    "with engine.begin() as conn:  \n",
    "\n",
    "    for i in range(len(gare_dis)):\n",
    "                insert_stmt = Ville_Gare.insert().values(\n",
    "                       \n",
    "                    gare = gare_dis[i],\n",
    "                    ville = dict_gare_ville[gare_dis[i]][0],\n",
    "                    département = dict_gare_ville[gare_dis[i]][1]\n",
    "                    )\n",
    "                    \n",
    "                conn.execute(insert_stmt)"
   ]
  }
 ],
 "metadata": {
  "kernelspec": {
   "display_name": "API_environnement",
   "language": "python",
   "name": "python3"
  },
  "language_info": {
   "codemirror_mode": {
    "name": "ipython",
    "version": 3
   },
   "file_extension": ".py",
   "mimetype": "text/x-python",
   "name": "python",
   "nbconvert_exporter": "python",
   "pygments_lexer": "ipython3",
   "version": "3.10.8 (main, Nov 24 2022, 14:13:03) [GCC 11.2.0]"
  },
  "orig_nbformat": 4,
  "vscode": {
   "interpreter": {
    "hash": "32f5dddeb9ce7e5c8b613f6bc75fa1b058f23c2ee88603b562b941d2bb4c9c3a"
   }
  }
 },
 "nbformat": 4,
 "nbformat_minor": 2
}
