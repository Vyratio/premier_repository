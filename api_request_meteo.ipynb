{
 "cells": [
  {
   "cell_type": "code",
   "execution_count": 1,
   "metadata": {},
   "outputs": [],
   "source": [
    "import requests"
   ]
  },
  {
   "cell_type": "code",
   "execution_count": 2,
   "metadata": {},
   "outputs": [],
   "source": [
    "URL = \"https://public.opendatasoft.com/api/records/1.0/search/?dataset=donnees-synop-essentielles-omm&q=&sort=date&facet=date&facet=nom&facet=nom_epci&facet=nom_dept&facet=nom_reg&facet=tc&rows=10000\"\n",
    "list_meteo = requests.get(URL)\n",
    "data_collected_meteo = list_meteo.json()"
   ]
  },
  {
   "cell_type": "code",
   "execution_count": 3,
   "metadata": {},
   "outputs": [],
   "source": [
    "list_annee=[2016,2017,2018,2019,2020,2021]\n",
    "\n",
    "list_data_collected_meteo_final = []\n",
    "for i in list_annee:\n",
    "    filtre = \"&refine.date=\"+str(i)#pour selectionner seulement l'année\n",
    "    for j in range(1,13):\n",
    "        list_temperature_annee_mois = requests.get(URL+filtre+\"%2F\"+str(j)) #pour sélectionner seulement le mois ,1 pour janvier et 12 pour decembre\n",
    "        list_data_collected_meteo_final.append(list_temperature_annee_mois.json())\n",
    "\n"
   ]
  },
  {
   "cell_type": "code",
   "execution_count": 4,
   "metadata": {},
   "outputs": [
    {
     "data": {
      "text/plain": [
       "72"
      ]
     },
     "execution_count": 4,
     "metadata": {},
     "output_type": "execute_result"
    }
   ],
   "source": [
    "len(list_data_collected_meteo_final)"
   ]
  },
  {
   "cell_type": "code",
   "execution_count": 5,
   "metadata": {},
   "outputs": [
    {
     "data": {
      "text/plain": [
       "Engine(sqlite:///temperature.sqlite3)"
      ]
     },
     "execution_count": 5,
     "metadata": {},
     "output_type": "execute_result"
    }
   ],
   "source": [
    "#Creation de la base de donnée\n",
    "from sqlalchemy import create_engine, MetaData, \\\n",
    "    Column, Integer, Numeric, String, Date, Table, ForeignKey, select\n",
    "\n",
    "engine = create_engine(\n",
    "    'sqlite:///temperature.sqlite3'\n",
    ")\n",
    "engine\n"
   ]
  },
  {
   "cell_type": "code",
   "execution_count": 6,
   "metadata": {},
   "outputs": [],
   "source": [
    "metadata = MetaData()"
   ]
  },
  {
   "cell_type": "code",
   "execution_count": 7,
   "metadata": {},
   "outputs": [
    {
     "data": {
      "text/plain": [
       "'1.4.45'"
      ]
     },
     "execution_count": 7,
     "metadata": {},
     "output_type": "execute_result"
    }
   ],
   "source": [
    "import sqlalchemy\n",
    "sqlalchemy.__version__ "
   ]
  },
  {
   "cell_type": "code",
   "execution_count": 8,
   "metadata": {},
   "outputs": [
    {
     "data": {
      "text/plain": [
       "sqlalchemy.orm.decl_api.Base"
      ]
     },
     "execution_count": 8,
     "metadata": {},
     "output_type": "execute_result"
    }
   ],
   "source": [
    "from sqlalchemy.orm import declarative_base\n",
    "Base = declarative_base()\n",
    "Base"
   ]
  },
  {
   "cell_type": "code",
   "execution_count": 9,
   "metadata": {},
   "outputs": [],
   "source": [
    "class Temperature(Base):\n",
    "     __tablename__ = \"Temperature\"\n",
    "     record_id = Column(String, primary_key=True)\n",
    "     date = Column(String)\n",
    "     nom = Column(String)     \n",
    "     nom_epci = Column(String) \n",
    "     département = Column(String)\n",
    "     nom_reg = Column(String)\n",
    "     temperature_celsius = Column(String)\n",
    "\n",
    "     def __repr__(self):\n",
    "         return \"<Temperature(record_id='%s', date='%s',nom='%s', nom_epci='%s',nom_dept='%s', nom_reg='%s', temperature_celsius='%s')>\" % (\n",
    "             self.record_id,\n",
    "             self.date,\n",
    "             self.nom,\n",
    "             self.nom_epci,\n",
    "             self.nom_dept,\n",
    "             self.nom_reg,\n",
    "             self.temperature_celsius,\n",
    "         )\n",
    "    \n"
   ]
  },
  {
   "cell_type": "code",
   "execution_count": 10,
   "metadata": {},
   "outputs": [],
   "source": [
    "from sqlalchemy.orm import sessionmaker\n",
    "Session = sessionmaker(bind=engine)\n",
    "Session\n",
    "Base.metadata.create_all(engine)"
   ]
  },
  {
   "cell_type": "code",
   "execution_count": 11,
   "metadata": {},
   "outputs": [],
   "source": [
    "def generateTemperature():\n",
    "    \"\"\"\n",
    "    Fonction qui stocke les données de la temperature dans la BDD\n",
    "    \"\"\"\n",
    "    Session = sessionmaker(bind=engine)\n",
    "    session = Session()\n",
    "    for j in list_data_collected_meteo_final:\n",
    "        for i in j[\"records\"]:\n",
    "            try:\n",
    "                nom_epci_test =i['fields']['nom_epci']\n",
    "            except KeyError:\n",
    "                nom_epci_test = \"None\"\n",
    "            try:\n",
    "                nom_dept_test =i['fields']['nom_dept']\n",
    "            except KeyError:\n",
    "                nom_epci_test = \"None\"\n",
    "            try:\n",
    "                nom_reg_test =i['fields']['nom_reg']\n",
    "            except KeyError:\n",
    "                nom_reg_test = \"None\"\n",
    "            try:\n",
    "                temperature_test =i['fields']['tc']\n",
    "            except KeyError:\n",
    "                temperature_test = \"None\"\n",
    "\n",
    "            temperature_remplir = Temperature(record_id=i['recordid'], date=i['fields']['date'],\n",
    "            nom=i['fields']['nom'],\n",
    "            nom_epci = nom_epci_test ,\n",
    "            département=nom_dept_test.upper(),    \n",
    "            nom_reg=nom_reg_test, \n",
    "            temperature_celsius=temperature_test)\n",
    "            session.add(temperature_remplir)\n",
    "            \n",
    "    session.commit()\n",
    "    session.close()\n"
   ]
  },
  {
   "cell_type": "code",
   "execution_count": 12,
   "metadata": {},
   "outputs": [],
   "source": [
    "generateTemperature()"
   ]
  }
 ],
 "metadata": {
  "kernelspec": {
   "display_name": "API_environnement",
   "language": "python",
   "name": "python3"
  },
  "language_info": {
   "codemirror_mode": {
    "name": "ipython",
    "version": 3
   },
   "file_extension": ".py",
   "mimetype": "text/x-python",
   "name": "python",
   "nbconvert_exporter": "python",
   "pygments_lexer": "ipython3",
   "version": "3.10.8 (main, Nov 24 2022, 14:13:03) [GCC 11.2.0]"
  },
  "orig_nbformat": 4,
  "vscode": {
   "interpreter": {
    "hash": "32f5dddeb9ce7e5c8b613f6bc75fa1b058f23c2ee88603b562b941d2bb4c9c3a"
   }
  }
 },
 "nbformat": 4,
 "nbformat_minor": 2
}
