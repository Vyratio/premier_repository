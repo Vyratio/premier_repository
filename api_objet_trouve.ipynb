{
 "cells": [
  {
   "cell_type": "code",
   "execution_count": 72,
   "metadata": {},
   "outputs": [],
   "source": [
    "import requests\n"
   ]
  },
  {
   "cell_type": "code",
   "execution_count": 73,
   "metadata": {},
   "outputs": [],
   "source": [
    "URL = \"https://ressources.data.sncf.com/api/records/1.0/search/?dataset=objets-trouves-restitution&q=&sort=date&facet=date&facet=gc_obo_date_heure_restitution_c&facet=gc_obo_gare_origine_r_name&facet=gc_obo_nature_c&facet=gc_obo_type_c&facet=gc_obo_nom_recordtype_sc_c\"\n",
    "\n",
    "list_of_lost_object = requests.get(URL)\n",
    "data_collected = list_of_lost_object.json()"
   ]
  },
  {
   "cell_type": "code",
   "execution_count": 76,
   "metadata": {},
   "outputs": [],
   "source": [
    "list_annee=[2016,2017,2018,2019,2020,2021]\n",
    "list_data_collected_final = []\n",
    "\n",
    "for i in list_annee:\n",
    "    filtre = \"&refine.date=\"+str(i)#pour selectionner seulement l'année\n",
    "    for j in range(1,13):\n",
    "        list_of_lost_object_annee = requests.get(URL+filtre+\"%2F\"+str(j)+\"&rows=10000\") #pour sélectionner seulement le mois ,1 pour janvier et 12 pour decembre\n",
    "        list_data_collected_final.append(list_of_lost_object_annee.json())\n",
    "\n",
    "# #On fait de cette manière car on ne peut que récuperer 10000 données à la fois"
   ]
  },
  {
   "cell_type": "code",
   "execution_count": 77,
   "metadata": {},
   "outputs": [
    {
     "data": {
      "text/plain": [
       "72"
      ]
     },
     "execution_count": 77,
     "metadata": {},
     "output_type": "execute_result"
    }
   ],
   "source": [
    "len(list_data_collected_final)"
   ]
  },
  {
   "cell_type": "code",
   "execution_count": 79,
   "metadata": {},
   "outputs": [
    {
     "data": {
      "text/plain": [
       "Engine(sqlite:///objet_trouve.sqlite3)"
      ]
     },
     "execution_count": 79,
     "metadata": {},
     "output_type": "execute_result"
    }
   ],
   "source": [
    "#Creation de la base de donnée\n",
    "from sqlalchemy import create_engine, MetaData, \\\n",
    "    Column, Integer, Numeric, String, Date, Table, ForeignKey, select\n",
    "\n",
    "engine = create_engine(\n",
    "    'sqlite:///objet_trouve.sqlite3'\n",
    ")\n",
    "engine\n"
   ]
  },
  {
   "cell_type": "code",
   "execution_count": 80,
   "metadata": {},
   "outputs": [],
   "source": [
    "metadata = MetaData()"
   ]
  },
  {
   "cell_type": "code",
   "execution_count": 81,
   "metadata": {},
   "outputs": [
    {
     "data": {
      "text/plain": [
       "'1.4.45'"
      ]
     },
     "execution_count": 81,
     "metadata": {},
     "output_type": "execute_result"
    }
   ],
   "source": [
    "import sqlalchemy\n",
    "sqlalchemy.__version__ "
   ]
  },
  {
   "cell_type": "code",
   "execution_count": 82,
   "metadata": {},
   "outputs": [
    {
     "data": {
      "text/plain": [
       "sqlalchemy.orm.decl_api.Base"
      ]
     },
     "execution_count": 82,
     "metadata": {},
     "output_type": "execute_result"
    }
   ],
   "source": [
    "from sqlalchemy.orm import declarative_base\n",
    "Base = declarative_base()\n",
    "Base"
   ]
  },
  {
   "cell_type": "code",
   "execution_count": 83,
   "metadata": {},
   "outputs": [],
   "source": [
    "class ObjetTrouve(Base):\n",
    "     __tablename__ = \"Objet_trouve\"\n",
    "     record_id = Column(Integer, primary_key=True)\n",
    "     id_gare_origine = Column(String)\n",
    "     nom_gare_origine = Column(String)     \n",
    "     type_objet_trouve = Column(String) \n",
    "     nature_objet_trouve = Column(String)\n",
    "     date = Column(String)\n",
    "\n",
    "     def __repr__(self):\n",
    "         return \"<Objet_trouve(record_id='%s', id_gare_origine='%s',nom_gare_origine='%s', type_objet_trouve='%s',nature_objet_trouve='%s',  date='%s')>\" % (\n",
    "             self.record_id,\n",
    "             self.id_gare_origine,\n",
    "             self.nom_gare_origine,\n",
    "             self.type_objet_trouve,\n",
    "             self.nature_objet_trouve,\n",
    "             self.date,\n",
    "         )\n",
    "    "
   ]
  },
  {
   "cell_type": "code",
   "execution_count": 85,
   "metadata": {},
   "outputs": [],
   "source": [
    "from sqlalchemy.orm import sessionmaker\n",
    "Session = sessionmaker(bind=engine)\n",
    "Session\n",
    "Base.metadata.create_all(engine)"
   ]
  },
  {
   "cell_type": "code",
   "execution_count": 100,
   "metadata": {},
   "outputs": [],
   "source": [
    "def generateObjet():\n",
    "    \"\"\"\n",
    "    Fonction qui stocke les données de la SNCF dans la BDD\n",
    "    \"\"\"\n",
    "    Session = sessionmaker(bind=engine)\n",
    "    session = Session()\n",
    "    for j in list_data_collected_final:\n",
    "        for i in j[\"records\"]:\n",
    "            try:\n",
    "                id_gare_origine_test =i['fields']['gc_obo_gare_origine_r_code_uic_c']\n",
    "            except KeyError:\n",
    "                id_gare_origine_test = \"Pas d'Id de gare\"\n",
    "            try:\n",
    "                nom_gare_origine_test =i['fields']['gc_obo_gare_origine_r_name']\n",
    "            except KeyError:\n",
    "                nom_gare_origine_test = \"Pas d'Id de gare\"\n",
    "        \n",
    "\n",
    "            objet_trouve_remplir = ObjetTrouve(id_gare_origine=id_gare_origine_test ,\n",
    "            nom_gare_origine=nom_gare_origine_test, \n",
    "            type_objet_trouve=i['fields']['gc_obo_type_c'],\n",
    "            nature_objet_trouve=i['fields']['gc_obo_nature_c'],\n",
    "            date=i['fields']['date'])\n",
    "            session.add(objet_trouve_remplir)\n",
    "            \n",
    "    session.commit()\n",
    "    session.close()"
   ]
  },
  {
   "cell_type": "code",
   "execution_count": 101,
   "metadata": {},
   "outputs": [],
   "source": [
    "generateObjet()"
   ]
  }
 ],
 "metadata": {
  "kernelspec": {
   "display_name": "API_environnement",
   "language": "python",
   "name": "python3"
  },
  "language_info": {
   "codemirror_mode": {
    "name": "ipython",
    "version": 3
   },
   "file_extension": ".py",
   "mimetype": "text/x-python",
   "name": "python",
   "nbconvert_exporter": "python",
   "pygments_lexer": "ipython3",
   "version": "3.10.8 (main, Nov 24 2022, 14:13:03) [GCC 11.2.0]"
  },
  "orig_nbformat": 4,
  "vscode": {
   "interpreter": {
    "hash": "32f5dddeb9ce7e5c8b613f6bc75fa1b058f23c2ee88603b562b941d2bb4c9c3a"
   }
  }
 },
 "nbformat": 4,
 "nbformat_minor": 2
}
